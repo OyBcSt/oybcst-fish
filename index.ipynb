{
 "cells": [
  {
   "cell_type": "markdown",
   "metadata": {},
   "source": [
    "# Figures\n",
    "by: J Plumlee \n",
    "2023-03-09"
   ]
  },
  {
   "cell_type": "code",
   "execution_count": null,
   "metadata": {},
   "outputs": [],
   "source": [
    "#Below: maybe there is an option to suppress the ugly library warning messages\n",
    "library(ggplot2)\n",
    "library(dplyr)\n",
    "library(tidyr) \n",
    "library(mgcv)\n",
    "library(lubridate)"
   ]
  },
  {
   "cell_type": "code",
   "execution_count": null,
   "metadata": {},
   "outputs": [],
   "source": [
    "#Read the file\n",
    "dirname <- getwd()\n",
    "filename <- 'all_species_enviro.csv'\n",
    "df <- read.csv(file.path(dirname,filename))\n",
    "cat(\"File\",filename,\"has\",nrow(df),\"rows,\",ncol(df),\"columns\")"
   ]
  },
  {
   "cell_type": "markdown",
   "metadata": {
    "tags": []
   },
   "source": [
    "## Pelagic\n",
    "`p_prey` = Pelagic prey excluding Butterfish, omit `NaN`\n",
    "\n",
    "We exclude Butterfish because ... (?)\n",
    "\n",
    "[NOAA: What are pelagic fish?](https://oceanservice.noaa.gov/facts/pelagic.html) *Pelagic fish inhabit the water column (not near the bottom or the shore) of coasts, open oceans, and lakes.*"
   ]
  },
  {
   "cell_type": "code",
   "execution_count": null,
   "metadata": {},
   "outputs": [],
   "source": [
    "#Pelagic Prey \n",
    "p_prey <- df[df$group == \"Pelagic Prey\",]\n",
    "#except Butterfish\n",
    "nrow(p_prey)\n",
    "p_prey <- na.omit(p_prey[p_prey$species != \"Butterfish\",])\n",
    "nrow(p_prey)"
   ]
  },
  {
   "cell_type": "markdown",
   "metadata": {},
   "source": [
    "## Benthic\n",
    "`b_prey` = Benthic prey excluding Mojarra, omit `NaN`"
   ]
  },
  {
   "cell_type": "code",
   "execution_count": null,
   "metadata": {},
   "outputs": [],
   "source": [
    "#Benthic Prey except Mojarra\n",
    "b_prey <- df[df$group == \"Benthic Prey\",]\n",
    "nrow(b_prey)\n",
    "b_prey <- na.omit(b_prey[b_prey$species != \"Mojarra\",])\n",
    "nrow(b_prey)"
   ]
  },
  {
   "cell_type": "markdown",
   "metadata": {},
   "source": [
    "## Fishery Species\n",
    "\n",
    "I write the nrow because personally like to check how many things are being excluded.  You can remove anything I stuck in here...the user can add for themselve when they go through the notebook, if they like to check things like that."
   ]
  },
  {
   "cell_type": "code",
   "execution_count": null,
   "metadata": {},
   "outputs": [],
   "source": [
    "f_spec <- df[df$group == \"Fishery Species\",]\n",
    "nrow(f_spec)\n",
    "f_spec <- na.omit(f_spec[f_spec$species != \"Whiting\",])\n",
    "nrow(f_spec)\n",
    "f_spec <- na.omit(f_spec[f_spec$species != \"Sand Seatrout\",])\n",
    "nrow(f_spec)\n",
    "f_spec <- na.omit(f_spec[f_spec$species != \"Pigfish\",])\n",
    "nrow(f_spec)"
   ]
  },
  {
   "cell_type": "markdown",
   "metadata": {},
   "source": [
    "## Huh?\n",
    "It looks like this is taking values in the column and doing something to them...what, and why?\n",
    "\n",
    "What is `factor`?\n",
    "\n",
    "Looks like black magic for people who don't know R.  (Actually, I'm friends with R and don't know that one.)"
   ]
  },
  {
   "cell_type": "code",
   "execution_count": null,
   "metadata": {},
   "outputs": [],
   "source": [
    "#Huh???\n",
    "p_prey$species <- factor(p_prey$species, levels = c(\"Atlantic Bumper\", \"Striped Anchovy\", \"Finger Anchovy\", \"Gulf Menhaden\", \"Bay Anchovy\", \"Striped Mullet\"))\n",
    "p_prey$season <- factor(p_prey$season, levels = c(\"Spring\", \"Summer\", \"Fall\"))"
   ]
  },
  {
   "cell_type": "markdown",
   "metadata": {},
   "source": [
    "## And...make plots\n",
    "\n",
    "This can be cleaned up. Best to update the function call to avoid those 'size' errors, and also to make sure your code stays valid for as long as possible.  We'll try to get it to show bigger as well.  Also, if you are using all those gazillion arguments for each plot, we can probably define them outside the plots.  That allows the user (or you) to easily change how all the plots look.\n",
    "\n",
    "Also I think you should pull out \"which decades\", define it as a variable at the top of the Notebook.  Then, someone can just change that and redo the Notebook, only change the one line.  Ditto for any other options.  Or we can define some functions(...or make your own library...or...not.  I get carried away.)"
   ]
  },
  {
   "cell_type": "code",
   "execution_count": null,
   "metadata": {},
   "outputs": [],
   "source": [
    "ggplot( p_prey[p_prey$decade == c(\"2000\", \"2010\"),], \n",
    "    aes(y = species, x = diff_median, fill = season)) +\n",
    "    geom_boxplot(outlier.shape = NA, size = 1.1, color = \"black\") +\n",
    "    scale_fill_viridis_d() +\n",
    "    geom_vline(xintercept = 0, linetype = \"dashed\", size = 1.1) +\n",
    "    xlim(-100,100) +\n",
    "    labs(x = \"Difference in Median Peak Day of the Year for Recruitment between 1980 and 2000-2020\", fill = \"Season\") +\n",
    "    theme(panel.background = element_rect(fill = \"white\", color = \"black\", size = 1.1), \n",
    "        axis.title.y = element_blank(), panel.grid.major.y = element_line(color = \"grey\", size = 1.10, linetype = \"dashed\"), \n",
    "        axis.title = element_text(color = \"black\", family = \"sans\", size = 12), axis.text = element_text(color = \"black\", family = \"sans\", size = 12), \n",
    "        legend.title = element_text(color = \"black\", family = \"sans\", size = 14), legend.text = element_text(color = \"black\", family = \"sans\", size = 12))"
   ]
  },
  {
   "cell_type": "markdown",
   "metadata": {},
   "source": [
    "### Does it matter?\n",
    "`longer object length is not a multiple of shorter object length`\n",
    "Warning messages in a display notebook look bad.  Take a look.  (Why would it need to be a multiple?  huh?)"
   ]
  },
  {
   "cell_type": "code",
   "execution_count": null,
   "metadata": {},
   "outputs": [],
   "source": [
    "nrow(p_prey[p_prey$decade == c(\"2000\", \"2010\"),])\n",
    "nrow(p_prey)"
   ]
  },
  {
   "cell_type": "markdown",
   "metadata": {},
   "source": [
    "## I would want to track down why there is are non-finite value in the next two plots.\n",
    "Or make a note to tell the viewer why it's okay.  Non-finite sounds bad."
   ]
  },
  {
   "cell_type": "code",
   "execution_count": null,
   "metadata": {},
   "outputs": [],
   "source": [
    "b_prey$species <- factor(b_prey$species, levels = c(\"Star Drum\", \"Silver Perch\", \"Atlantic Croaker\", \"Spot\"))\n",
    "b_prey$season <- factor(b_prey$season, levels = c(\"Spring\", \"Summer\", \"Fall\"))\n",
    "ggplot(b_prey[b_prey$decade == c(\"2000\", \"2010\"),], aes(y = species, x = diff_median, fill = season)) +\n",
    "  geom_boxplot(outlier.shape = NA, size = 1.1, color = \"black\") +\n",
    "  scale_fill_viridis_d() +\n",
    "  geom_vline(xintercept = 0, linetype = \"dashed\", size = 1.1) +\n",
    "  xlim(-100,100) +\n",
    "  labs(x = \"Difference in Median Peak Day of the Year for Recruitment between 1980 and 2000-2020\", fill = \"Season\") +\n",
    "  theme(panel.background = element_rect(fill = \"white\", color = \"black\", size = 1.1), axis.title.y = element_blank(),\n",
    "        panel.grid.major.y = element_line(color = \"grey\", size = 1.10, linetype = \"dashed\"), axis.title = element_text(color = \"black\", family = \"sans\", size = 12), \n",
    "        axis.text = element_text(color = \"black\", family = \"sans\", size = 12), legend.title = element_text(color = \"black\", family = \"sans\", size = 14), \n",
    "        legend.text = element_text(color = \"black\", family = \"sans\", size = 12))\n"
   ]
  },
  {
   "cell_type": "code",
   "execution_count": null,
   "metadata": {},
   "outputs": [],
   "source": [
    "f_spec$species <- factor(f_spec$species, levels = c(\"Spotted Seatrout\", \"White Shrimp\", \"Pink Shrimp\", \"Blue Crab\", \"Brown Shrimp\", \"Southern Flounder\"))\n",
    "f_spec$season <- factor(f_spec$season, levels = c(\"Spring\", \"Summer\", \"Fall\"))\n",
    "ggplot(f_spec[f_spec$decade == c(\"2000\", \"2010\"),], aes(y = species, x = diff_median, fill = season)) +\n",
    "  geom_boxplot(outlier.shape = NA, size = 1.1, color = \"black\") +\n",
    "  scale_fill_viridis_d() +\n",
    "  geom_vline(xintercept = 0, linetype = \"dashed\", size = 1.1) +\n",
    "  xlim(-100,100) +\n",
    "  labs(x = \"Difference in Median Peak Day of the Year for Recruitment between 1980 and 2000-2020\", fill = \"Season\") +\n",
    "  theme(panel.background = element_rect(fill = \"white\", color = \"black\", size = 1.1), axis.title.y = element_blank(), \n",
    "        panel.grid.major.y = element_line(color = \"grey\", size = 1.10, linetype = \"dashed\"), \n",
    "        axis.title = element_text(color = \"black\", family = \"sans\", size = 12), axis.text = element_text(color = \"black\", family = \"sans\", size = 12), \n",
    "        legend.title = element_text(color = \"black\", family = \"sans\", size = 14), \n",
    "        legend.text = element_text(color = \"black\", family = \"sans\", size = 12))"
   ]
  },
  {
   "cell_type": "markdown",
   "metadata": {},
   "source": [
    "## And more plots... Need to be labeled and cleaned..."
   ]
  },
  {
   "cell_type": "code",
   "execution_count": null,
   "metadata": {},
   "outputs": [],
   "source": [
    "p_prey <- df[df$group == \"Pelagic Prey\",]\n",
    "\n",
    "p_prey <- na.omit(p_prey[p_prey$species != \"Butterfish\",])\n",
    "\n",
    "b_prey <- df[df$group == \"Benthic Prey\",]\n",
    "\n",
    "b_prey <- na.omit(b_prey[b_prey$species != \"Mojarra\",])\n",
    "\n",
    "f_spec <- df[df$group == \"Fishery Species\",]\n",
    "\n",
    "f_spec <- na.omit(f_spec[f_spec$species != \"Whiting\",])\n",
    "f_spec <- na.omit(f_spec[f_spec$species != \"Sand Seatrout\",])\n",
    "f_spec <- na.omit(f_spec[f_spec$species != \"Pigfish\",])\n",
    "\n",
    "p_prey$species <- factor(p_prey$species, levels = c(\"Atlantic Bumper\", \"Striped Anchovy\", \"Finger Anchovy\", \"Bay Anchovy\", \"Gulf Menhaden\", \"Striped Mullet\"))\n",
    "\n",
    "p_prey$season <- factor(p_prey$season, levels = c(\"Spring\", \"Summer\", \"Fall\"))\n",
    "\n",
    "ggplot(p_prey[p_prey$decade == c(\"2000\", \"2010\"),], aes(y = species, x = diff_range, fill = season)) +\n",
    "  geom_boxplot(outlier.shape = NA, size = 1.1, color = \"black\") +\n",
    "  scale_fill_viridis_d() +\n",
    "  geom_vline(xintercept = 0, linetype = \"dashed\", size = 1.1) +\n",
    "  xlim(-100,100) +\n",
    "  labs(x = \"Difference in Range of Recruitment between 1980 and 2000-2020\", fill = \"Season\") +\n",
    "  theme(panel.background = element_rect(fill = \"white\", color = \"black\", size = 1.1), axis.title.y = element_blank(), panel.grid.major.y = element_line(color = \"grey\", size = 1.10, linetype = \"dashed\"), axis.title = element_text(color = \"black\", family = \"sans\", size = 12), axis.text = element_text(color = \"black\", family = \"sans\", size = 12), legend.title = element_text(color = \"black\", family = \"sans\", size = 14), legend.text = element_text(color = \"black\", family = \"sans\", size = 12))\n",
    "\n",
    "b_prey$species <- factor(b_prey$species, levels = c(\"Star Drum\", \"Silver Perch\", \"Atlantic Croaker\", \"Spot\"))\n",
    "\n",
    "b_prey$season <- factor(b_prey$season, levels = c(\"Spring\", \"Summer\", \"Fall\"))\n",
    "\n",
    "ggplot(b_prey[b_prey$decade == c(\"2000\", \"2010\"),], aes(y = species, x = diff_range, fill = season)) +\n",
    "  geom_boxplot(outlier.shape = NA, size = 1.1, color = \"black\") +\n",
    "  scale_fill_viridis_d() +\n",
    "  geom_vline(xintercept = 0, linetype = \"dashed\", size = 1.1) +\n",
    "  xlim(-100,100) +\n",
    "  labs(x = \"Difference in Range of Recruitment between 1980 and 2000-2020\", fill = \"Season\") +\n",
    "  theme(panel.background = element_rect(fill = \"white\", color = \"black\", size = 1.1), axis.title.y = element_blank(), panel.grid.major.y = element_line(color = \"grey\", size = 1.10, linetype = \"dashed\"), axis.title = element_text(color = \"black\", family = \"sans\", size = 12), axis.text = element_text(color = \"black\", family = \"sans\", size = 12), legend.title = element_text(color = \"black\", family = \"sans\", size = 14), legend.text = element_text(color = \"black\", family = \"sans\", size = 12))\n",
    "\n",
    "f_spec$species <- factor(f_spec$species, levels = c(\"Spotted Seatrout\", \"White Shrimp\", \"Pink Shrimp\", \"Blue Crab\", \"Brown Shrimp\", \"Southern Flounder\"))\n",
    "\n",
    "f_spec$season <- factor(f_spec$season, levels = c(\"Spring\", \"Summer\", \"Fall\"))\n",
    "\n",
    "ggplot(f_spec[f_spec$decade == c(\"2000\", \"2010\"),], aes(y = species, x = diff_range, fill = season)) +\n",
    "  geom_boxplot(outlier.shape = NA, size = 1.1, color = \"black\") +\n",
    "  scale_fill_viridis_d() +\n",
    "  geom_vline(xintercept = 0, linetype = \"dashed\", size = 1.1) +\n",
    "  xlim(-100,100) +\n",
    "  labs(x = \"Difference in Range of Recruitment between 1980 and 2000-2020\", fill = \"Season\") +\n",
    "  theme(panel.background = element_rect(fill = \"white\", color = \"black\", size = 1.1), axis.title.y = element_blank(), panel.grid.major.y = element_line(color = \"grey\", size = 1.10, linetype = \"dashed\"), axis.title = element_text(color = \"black\", family = \"sans\", size = 12), axis.text = element_text(color = \"black\", family = \"sans\", size = 12), legend.title = element_text(color = \"black\", family = \"sans\", size = 14), legend.text = element_text(color = \"black\", family = \"sans\", size = 12))"
   ]
  },
  {
   "cell_type": "code",
   "execution_count": null,
   "metadata": {},
   "outputs": [],
   "source": [
    "menhaden_median <- gam(Median ~ s(yearly_tavg, k=3), data=df[df$species == \"Menhaden\",], family=poisson)\n",
    "\n",
    "menhaden_median_p <- plot(menhaden_median)\n",
    "\n",
    "silverperch_median <- gam(Median ~ s(yearly_drought, k=3), data=df[df$species == \"Silver Perch\",], family=poisson)\n",
    "\n",
    "silverperch_median_p <- plot(silverperch_median)\n",
    "\n",
    "brownshrimp_median <- gam(Median ~ s(yearly_tavg, k=3), data=df[df$species == \"Brown Shrimp\",], family=poisson)\n",
    "\n",
    "brownshrimp_median_p <- plot(brownshrimp_median)\n",
    "\n",
    "stripedanchovy_median <- gam(Median ~ s(yearly_drought, k=3), data=df[df$species == \"Striped Anchovy\",], family=poisson)\n",
    "\n",
    "stripedanchovy_median_p <- plot(stripedanchovy_median)\n",
    "\n",
    "pinkshrimp_median <- gam(Median ~ s(yearly_drought, k=3), data=df[df$species == \"Pink Shrimp\",], family=poisson)\n",
    "\n",
    "pinkshrimp_median_p <- plot(pinkshrimp_median)\n",
    "\n",
    "stardrum_median <- gam(Median ~ s(yearly_tavg, k=3), data=df[df$species == \"Star Drum\",], family=poisson)\n",
    "\n",
    "stardrum_median_p <- plot(stardrum_median)\n",
    "\n",
    "variables <- rbind(matrix(menhaden_median_p[[1]][[\"x\"]]), matrix(silverperch_median_p[[1]][[\"x\"]]), matrix(brownshrimp_median_p[[1]][[\"x\"]]), matrix(stripedanchovy_median_p[[1]][[\"x\"]]), matrix(pinkshrimp_median_p[[1]][[\"x\"]]), matrix(stardrum_median_p[[1]][[\"x\"]]))\n",
    "\n",
    "response <- rbind(matrix(menhaden_median_p[[1]][[\"fit\"]]), matrix(silverperch_median_p[[1]][[\"fit\"]]), matrix(brownshrimp_median_p[[1]][[\"fit\"]]), matrix(stripedanchovy_median_p[[1]][[\"fit\"]]), matrix(pinkshrimp_median_p[[1]][[\"fit\"]]), matrix(stardrum_median_p[[1]][[\"fit\"]]))\n",
    "\n",
    "error <- rbind(matrix(menhaden_median_p[[1]][[\"se\"]]), matrix(silverperch_median_p[[1]][[\"se\"]]), matrix(brownshrimp_median_p[[1]][[\"se\"]]), matrix(stripedanchovy_median_p[[1]][[\"se\"]]), matrix(pinkshrimp_median_p[[1]][[\"se\"]]), matrix(stardrum_median_p[[1]][[\"se\"]]))\n",
    "\n",
    "species <- rbind(matrix(rep(\"Menhaden\", 100)), matrix(rep(\"Silver Perch\", 100)), matrix(rep(\"Brown Shrimp\", 100)), matrix(rep(\"Striped Anchovy\", 100)), matrix(rep(\"Pink Shrimp\", 100)), matrix(rep(\"Star Drum\", 100)))\n",
    "\n",
    "median_tavg <- cbind(variables, response, error, species) \n",
    "\n",
    "colnames(median_tavg) <- c(\"Variable\", \"Response\", \"Error\", \"Species\")\n",
    "\n",
    "median_tavg <- as.data.frame(median_tavg)\n",
    "\n",
    "median_tavg$Variable <- as.numeric(median_tavg$Variable)\n",
    "median_tavg$Response <- as.numeric(median_tavg$Response)\n",
    "median_tavg$Error <- as.numeric(median_tavg$Error)\n",
    "median_tavg$Species <- as.factor(median_tavg$Species)\n",
    "\n",
    "menhaden <- median_tavg[median_tavg$Species == \"Menhaden\",]\n",
    "menhaden$Variable <- (menhaden$Variable-32)*5/9\n",
    "\n",
    "brownshrimp <- median_tavg[median_tavg$Species == \"Brown Shrimp\",]\n",
    "brownshrimp$Variable <- (brownshrimp$Variable-32)*5/9\n",
    "\n",
    "stardrum <- median_tavg[median_tavg$Species == \"Star Drum\",]\n",
    "stardrum$Variable <- (stardrum$Variable-32)*5/9\n",
    "\n",
    "silverperch <- median_tavg[median_tavg$Species == \"Silver Perch\",]\n",
    "silverperch <- silverperch[silverperch$Variable >= -10000,]\n",
    "\n",
    "stripedanchovy <- median_tavg[median_tavg$Species == \"Striped Anchovy\",]\n",
    "\n",
    "pinkshrimp <- median_tavg[median_tavg$Species == \"Pink Shrimp\",]\n",
    "pinkshrimp <- pinkshrimp[pinkshrimp$Variable >= -10000,]\n",
    "\n",
    "ggplot(menhaden, aes(x = Variable, y = Response))+\n",
    "  geom_line(size = 1.5, color = \"#440154FF\") +\n",
    "  geom_ribbon(aes(ymin = Response - Error, ymax = Response + Error), alpha = 0.8, fill = \"#440154FF\") +\n",
    "  geom_hline(yintercept = 0, color = \"black\", linetype = \"dashed\", size = 1.10) +\n",
    "  ylim(-0.25, 0.70) +\n",
    "  scale_x_continuous(breaks=seq(18,22, by= 0.5)) +\n",
    "  labs(y = \"Additive Effect (Median DOY)\", x = \"Average Yearly Temperature\")  +\n",
    "  theme(panel.background = element_rect(fill = \"white\", color = \"black\", size = 1.1), axis.title.y = element_blank(), panel.grid.major.x = element_line(color = \"grey\", size = 1, linetype = \"dashed\"), axis.title = element_text(color = \"black\", family = \"sans\", size = 12), axis.text = element_text(color = \"black\", family = \"sans\", size = 12), legend.title = element_text(color = \"black\", family = \"sans\", size = 14), legend.text = element_text(color = \"black\", family = \"sans\", size = 12))\n",
    "\n",
    "ggplot(brownshrimp, aes(x = Variable, y = Response))+\n",
    "  geom_line(size = 1.5, color = \"#440154FF\") +\n",
    "  geom_ribbon(aes(ymin = Response - Error, ymax = Response + Error), alpha = 0.8, fill = \"#440154FF\") +\n",
    "  geom_hline(yintercept = 0, color = \"black\", linetype = \"dashed\", size = 1.10) +\n",
    "  ylim(-0.25, 0.70) +\n",
    "  scale_x_continuous(breaks=seq(18,22, by= 0.5)) +\n",
    "  labs(y = \"Additive Effect (Median DOY)\", x = \"Average Yearly Temperature\")  +\n",
    "  theme(panel.background = element_rect(fill = \"white\", color = \"black\", size = 1.1), axis.title.y = element_blank(), panel.grid.major.x = element_line(color = \"grey\", size = 1, linetype = \"dashed\"), axis.title = element_text(color = \"black\", family = \"sans\", size = 12), axis.text = element_text(color = \"black\", family = \"sans\", size = 12), legend.title = element_text(color = \"black\", family = \"sans\", size = 14), legend.text = element_text(color = \"black\", family = \"sans\", size = 12))\n",
    "\n",
    "ggplot(stardrum, aes(x = Variable, y = Response))+\n",
    "  geom_line(size = 1.5, color = \"#FDE725FF\") +\n",
    "  geom_ribbon(aes(ymin = Response - Error, ymax = Response + Error), alpha = 0.8, fill = \"#FDE725FF\") +\n",
    "  geom_hline(yintercept = 0, color = \"black\", linetype = \"dashed\", size = 1.10) +\n",
    "  ylim(-0.25, 0.70) +\n",
    "  scale_x_continuous(breaks=seq(18,22, by= 0.5)) +\n",
    "  labs(y = \"Additive Effect (Median DOY)\", x = \"Average Yearly Temperature\")  +\n",
    "  theme(panel.background = element_rect(fill = \"white\", color = \"black\", size = 1.1), axis.title.y = element_blank(), panel.grid.major.x = element_line(color = \"grey\", size = 1, linetype = \"dashed\"), axis.title = element_text(color = \"black\", family = \"sans\", size = 12), axis.text = element_text(color = \"black\", family = \"sans\", size = 12), legend.title = element_text(color = \"black\", family = \"sans\", size = 14), legend.text = element_text(color = \"black\", family = \"sans\", size = 12))\n",
    "\n",
    "ggplot(silverperch, aes(x = Variable, y = Response))+\n",
    "  geom_line(size = 1.5, color = \"#440154FF\") +\n",
    "  geom_ribbon(aes(ymin = Response - Error, ymax = Response + Error), alpha = 0.8, fill = \"#440154FF\") +\n",
    "  geom_hline(yintercept = 0, color = \"black\", linetype = \"dashed\", size = 1.10) +\n",
    "  ylim(-0.35, 0.40) +\n",
    "  scale_x_continuous(breaks=seq(-10000,10000, by= 5000)) +\n",
    "  labs(y = \"Additive Effect (Median DOY)\", x = \"Annual Drought Index\")  +\n",
    "  theme(panel.background = element_rect(fill = \"white\", color = \"black\", size = 1.1), axis.title.y = element_blank(), panel.grid.major.x = element_line(color = \"grey\", size = 1, linetype = \"dashed\"), axis.title = element_text(color = \"black\", family = \"sans\", size = 12), axis.text = element_text(color = \"black\", family = \"sans\", size = 12), legend.title = element_text(color = \"black\", family = \"sans\", size = 14), legend.text = element_text(color = \"black\", family = \"sans\", size = 12))\n",
    "\n",
    "ggplot(stripedanchovy, aes(x = Variable, y = Response))+\n",
    "  geom_line(size = 1.5, color = \"#21908CFF\") +\n",
    "  geom_ribbon(aes(ymin = Response - Error, ymax = Response + Error), alpha = 0.8, fill = \"#21908CFF\") +\n",
    "  geom_hline(yintercept = 0, color = \"black\", linetype = \"dashed\", size = 1.10) +\n",
    "  ylim(-0.35, 0.40) +\n",
    "  scale_x_continuous(breaks=seq(-10000,10000, by= 5000)) +\n",
    "  labs(y = \"Additive Effect (Median DOY)\", x = \"Annual Drought Index\")  +\n",
    "  theme(panel.background = element_rect(fill = \"white\", color = \"black\", size = 1.1), axis.title.y = element_blank(), panel.grid.major.x = element_line(color = \"grey\", size = 1, linetype = \"dashed\"), axis.title = element_text(color = \"black\", family = \"sans\", size = 12), axis.text = element_text(color = \"black\", family = \"sans\", size = 12), legend.title = element_text(color = \"black\", family = \"sans\", size = 14), legend.text = element_text(color = \"black\", family = \"sans\", size = 12))\n",
    "\n",
    "ggplot(pinkshrimp, aes(x = Variable, y = Response))+\n",
    "  geom_line(size = 1.5, color = \"#21908CFF\") +\n",
    "  geom_ribbon(aes(ymin = Response - Error, ymax = Response + Error), alpha = 0.8, fill = \"#21908CFF\") +\n",
    "  geom_hline(yintercept = 0, color = \"black\", linetype = \"dashed\", size = 1.10) +\n",
    "  ylim(-0.35, 0.40) +\n",
    "  scale_x_continuous(breaks=seq(-10000,10000, by= 5000)) +\n",
    "  labs(y = \"Additive Effect (Median DOY)\", x = \"Annual Drought Index\")  +\n",
    "  theme(panel.background = element_rect(fill = \"white\", color = \"black\", size = 1.1), axis.title.y = element_blank(), panel.grid.major.x = element_line(color = \"grey\", size = 1, linetype = \"dashed\"), axis.title = element_text(color = \"black\", family = \"sans\", size = 12), axis.text = element_text(color = \"black\", family = \"sans\", size = 12), legend.title = element_text(color = \"black\", family = \"sans\", size = 14), legend.text = element_text(color = \"black\", family = \"sans\", size = 12))"
   ]
  },
  {
   "cell_type": "code",
   "execution_count": null,
   "metadata": {},
   "outputs": [],
   "source": []
  }
 ],
 "metadata": {
  "kernelspec": {
   "display_name": "R",
   "language": "R",
   "name": "ir"
  },
  "language_info": {
   "codemirror_mode": "r",
   "file_extension": ".r",
   "mimetype": "text/x-r-source",
   "name": "R",
   "pygments_lexer": "r",
   "version": "4.2.1"
  }
 },
 "nbformat": 4,
 "nbformat_minor": 4
}
