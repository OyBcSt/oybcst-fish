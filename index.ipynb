{
 "cells": [
  {
   "cell_type": "markdown",
   "metadata": {},
   "source": [
    "# Figures\n",
    "by: J Plumlee \n",
    "2023-03-09"
   ]
  },
  {
   "cell_type": "code",
   "execution_count": null,
   "metadata": {},
   "outputs": [],
   "source": [
    "#Below: maybe there is an option to suppress the ugly library warning messages\n",
    "library(ggplot2)\n",
    "library(dplyr)\n",
    "library(tidyr) \n",
    "library(mgcv)\n",
    "library(lubridate)"
   ]
  },
  {
   "cell_type": "code",
   "execution_count": null,
   "metadata": {},
   "outputs": [],
   "source": [
    "#Read the file\n",
    "dirname <- getwd()\n",
    "filename <- 'all_species_enviro.csv'\n",
    "df <- read.csv(file.path(dirname,filename))\n",
    "cat(\"File\",filename,\"has\",nrow(df),\"rows,\",ncol(df),\"columns\")"
   ]
  },
  {
   "cell_type": "markdown",
   "metadata": {
    "tags": []
   },
   "source": [
    "## Pelagic\n",
    "`p_prey` = Pelagic prey excluding Butterfish, omit `NaN`\n",
    "\n",
    "We exclude Butterfish because ... (?)\n",
    "\n",
    "[NOAA: What are pelagic fish?](https://oceanservice.noaa.gov/facts/pelagic.html) *Pelagic fish inhabit the water column (not near the bottom or the shore) of coasts, open oceans, and lakes.*"
   ]
  },
  {
   "cell_type": "code",
   "execution_count": null,
   "metadata": {},
   "outputs": [],
   "source": [
    "#Pelagic Prey \n",
    "p_prey <- df[df$group == \"Pelagic Prey\",]\n",
    "#except Butterfish\n",
    "nrow(p_prey)\n",
    "p_prey <- na.omit(p_prey[p_prey$species != \"Butterfish\",])\n",
    "nrow(p_prey)"
   ]
  },
  {
   "cell_type": "markdown",
   "metadata": {},
   "source": [
    "## Benthic\n",
    "`b_prey` = Benthic prey excluding Mojarra, omit `NaN`"
   ]
  },
  {
   "cell_type": "code",
   "execution_count": null,
   "metadata": {},
   "outputs": [],
   "source": [
    "#Benthic Prey except Mojarra\n",
    "b_prey <- df[df$group == \"Benthic Prey\",]\n",
    "nrow(b_prey)\n",
    "b_prey <- na.omit(b_prey[b_prey$species != \"Mojarra\",])\n",
    "nrow(b_prey)"
   ]
  },
  {
   "cell_type": "markdown",
   "metadata": {},
   "source": [
    "## Fishery Species\n",
    "\n",
    "I write the nrow because personally like to check how many things are being excluded.  You can remove anything I stuck in here...the user can add for themselve when they go through the notebook, if they like to check things like that."
   ]
  },
  {
   "cell_type": "code",
   "execution_count": null,
   "metadata": {},
   "outputs": [],
   "source": [
    "f_spec <- df[df$group == \"Fishery Species\",]\n",
    "nrow(f_spec)\n",
    "f_spec <- na.omit(f_spec[f_spec$species != \"Whiting\",])\n",
    "nrow(f_spec)\n",
    "f_spec <- na.omit(f_spec[f_spec$species != \"Sand Seatrout\",])\n",
    "nrow(f_spec)\n",
    "f_spec <- na.omit(f_spec[f_spec$species != \"Pigfish\",])\n",
    "nrow(f_spec)"
   ]
  },
  {
   "cell_type": "markdown",
   "metadata": {},
   "source": [
    "## Huh?\n",
    "It looks like this is taking values in the column and doing something to them...what, and why?\n",
    "\n",
    "What is `factor`?\n",
    "\n",
    "Looks like black magic for people who don't know R.  (Actually, I'm friends with R and don't know that one.)"
   ]
  },
  {
   "cell_type": "code",
   "execution_count": null,
   "metadata": {},
   "outputs": [],
   "source": [
    "#Huh???\n",
    "p_prey$species <- factor(p_prey$species, levels = c(\"Atlantic Bumper\", \"Striped Anchovy\", \"Finger Anchovy\", \"Gulf Menhaden\", \"Bay Anchovy\", \"Striped Mullet\"))\n",
    "p_prey$season <- factor(p_prey$season, levels = c(\"Spring\", \"Summer\", \"Fall\"))"
   ]
  },
  {
   "cell_type": "markdown",
   "metadata": {},
   "source": [
    "## And...make plots\n",
    "\n",
    "This can be cleaned up. Best to update the function call to avoid those 'size' errors, and also to make sure your code stays valid for as long as possible.  We'll try to get it to show bigger as well.  Also, if you are using all those gazillion arguments for each plot, we can probably define them outside the plots.  That allows the user (or you) to easily change how all the plots look.\n",
    "\n",
    "Also I think you should pull out \"which decades\", define it as a variable at the top of the Notebook.  Then, someone can just change that and redo the Notebook, only change the one line.  Ditto for any other options.  Or we can define some functions(...or make your own library...or...not.  I get carried away.)"
   ]
  },
  {
   "cell_type": "code",
   "execution_count": null,
   "metadata": {},
   "outputs": [],
   "source": [
    "ggplot( p_prey[p_prey$decade == c(\"2000\", \"2010\"),], \n",
    "    aes(y = species, x = diff_median, fill = season)) +\n",
    "    geom_boxplot(outlier.shape = NA, size = 1.1, color = \"black\") +\n",
    "    scale_fill_viridis_d() +\n",
    "    geom_vline(xintercept = 0, linetype = \"dashed\", size = 1.1) +\n",
    "    xlim(-100,100) +\n",
    "    labs(x = \"Difference in Median Peak Day of the Year for Recruitment between 1980 and 2000-2020\", fill = \"Season\") +\n",
    "    theme(panel.background = element_rect(fill = \"white\", color = \"black\", size = 1.1), \n",
    "        axis.title.y = element_blank(), panel.grid.major.y = element_line(color = \"grey\", size = 1.10, linetype = \"dashed\"), \n",
    "        axis.title = element_text(color = \"black\", family = \"sans\", size = 12), axis.text = element_text(color = \"black\", family = \"sans\", size = 12), \n",
    "        legend.title = element_text(color = \"black\", family = \"sans\", size = 14), legend.text = element_text(color = \"black\", family = \"sans\", size = 12))"
   ]
  },
  {
   "cell_type": "markdown",
   "metadata": {},
   "source": [
    "### Does it matter?\n",
    "`longer object length is not a multiple of shorter object length`\n",
    "Warning messages in a display notebook look bad.  Take a look.  (Why would it need to be a multiple?  huh?)"
   ]
  },
  {
   "cell_type": "code",
   "execution_count": null,
   "metadata": {},
   "outputs": [],
   "source": [
    "nrow(p_prey[p_prey$decade == c(\"2000\", \"2010\"),])\n",
    "nrow(p_prey)"
   ]
  },
  {
   "cell_type": "markdown",
   "metadata": {},
   "source": [
    "## I would want to track down why there is are non-finite value in the next two plots.\n",
    "Or make a note to tell the viewer why it's okay.  Non-finite sounds bad."
   ]
  },
  {
   "cell_type": "code",
   "execution_count": null,
   "metadata": {},
   "outputs": [],
   "source": [
    "b_prey$species <- factor(b_prey$species, levels = c(\"Star Drum\", \"Silver Perch\", \"Atlantic Croaker\", \"Spot\"))\n",
    "b_prey$season <- factor(b_prey$season, levels = c(\"Spring\", \"Summer\", \"Fall\"))\n",
    "ggplot(b_prey[b_prey$decade == c(\"2000\", \"2010\"),], aes(y = species, x = diff_median, fill = season)) +\n",
    "  geom_boxplot(outlier.shape = NA, size = 1.1, color = \"black\") +\n",
    "  scale_fill_viridis_d() +\n",
    "  geom_vline(xintercept = 0, linetype = \"dashed\", size = 1.1) +\n",
    "  xlim(-100,100) +\n",
    "  labs(x = \"Difference in Median Peak Day of the Year for Recruitment between 1980 and 2000-2020\", fill = \"Season\") +\n",
    "  theme(panel.background = element_rect(fill = \"white\", color = \"black\", size = 1.1), axis.title.y = element_blank(),\n",
    "        panel.grid.major.y = element_line(color = \"grey\", size = 1.10, linetype = \"dashed\"), axis.title = element_text(color = \"black\", family = \"sans\", size = 12), \n",
    "        axis.text = element_text(color = \"black\", family = \"sans\", size = 12), legend.title = element_text(color = \"black\", family = \"sans\", size = 14), \n",
    "        legend.text = element_text(color = \"black\", family = \"sans\", size = 12))\n"
   ]
  },
  {
   "cell_type": "code",
   "execution_count": null,
   "metadata": {},
   "outputs": [],
   "source": [
    "f_spec$species <- factor(f_spec$species, levels = c(\"Spotted Seatrout\", \"White Shrimp\", \"Pink Shrimp\", \"Blue Crab\", \"Brown Shrimp\", \"Southern Flounder\"))\n",
    "f_spec$season <- factor(f_spec$season, levels = c(\"Spring\", \"Summer\", \"Fall\"))\n",
    "ggplot(f_spec[f_spec$decade == c(\"2000\", \"2010\"),], aes(y = species, x = diff_median, fill = season)) +\n",
    "  geom_boxplot(outlier.shape = NA, size = 1.1, color = \"black\") +\n",
    "  scale_fill_viridis_d() +\n",
    "  geom_vline(xintercept = 0, linetype = \"dashed\", size = 1.1) +\n",
    "  xlim(-100,100) +\n",
    "  labs(x = \"Difference in Median Peak Day of the Year for Recruitment between 1980 and 2000-2020\", fill = \"Season\") +\n",
    "  theme(panel.background = element_rect(fill = \"white\", color = \"black\", size = 1.1), axis.title.y = element_blank(), \n",
    "        panel.grid.major.y = element_line(color = \"grey\", size = 1.10, linetype = \"dashed\"), \n",
    "        axis.title = element_text(color = \"black\", family = \"sans\", size = 12), axis.text = element_text(color = \"black\", family = \"sans\", size = 12), \n",
    "        legend.title = element_text(color = \"black\", family = \"sans\", size = 14), \n",
    "        legend.text = element_text(color = \"black\", family = \"sans\", size = 12))"
   ]
  }
 ],
 "metadata": {
  "kernelspec": {
   "display_name": "R",
   "language": "R",
   "name": "ir"
  },
  "language_info": {
   "codemirror_mode": "r",
   "file_extension": ".r",
   "mimetype": "text/x-r-source",
   "name": "R",
   "pygments_lexer": "r",
   "version": "4.2.1"
  }
 },
 "nbformat": 4,
 "nbformat_minor": 4
}
